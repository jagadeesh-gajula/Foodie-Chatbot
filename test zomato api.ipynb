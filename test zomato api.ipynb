{
 "cells": [
  {
   "cell_type": "code",
   "execution_count": 1,
   "metadata": {},
   "outputs": [
    {
     "name": "stdout",
     "output_type": "stream",
     "text": [
      "{'has_menu_status': {'delivery': 1, 'takeaway': -1}, 'res_id': 61381}\n"
     ]
    }
   ],
   "source": [
    "\n",
    "# this python program to test the zomato api\n",
    "import pprint, json\n",
    "import zomatopy\n",
    "\n",
    "# specify location and cuisine\n",
    "loc = 'Bangalore'\n",
    "cuisine = 'Italian'\n",
    "\n",
    "# provide API key and initialise a 'zomato app' object\n",
    "config={ \"user_key\": \"f4924dc9ad672ee8c4f8c84743301af5\"}\n",
    "zomato = zomatopy.initialize_app(config)\n",
    "\n",
    "# get_location gets the lat-long coordinates of 'loc'\n",
    "location_detail=zomato.get_location(loc, 1)\n",
    "\n",
    "# store retrieved data as a dict\n",
    "d1 = json.loads(location_detail)\n",
    "\n",
    "# separate lat-long coordinates\n",
    "lat=d1[\"location_suggestions\"][0][\"latitude\"]\n",
    "lon=d1[\"location_suggestions\"][0][\"longitude\"]\n",
    "\n",
    "# cuisines code (used by zomatopy)\n",
    "cuisines_dict={'bakery':5,'chinese':25,'cafe':30,'italian':55,'biryani':7,'north indian':50,'south indian':85}\n",
    "\n",
    "\n",
    "# fetch and print results\n",
    "results=zomato.restaurant_search(\"\", lat, lon, str(cuisines_dict.get(cuisine)), 5)\n",
    "d = json.loads(results)\n",
    "\n",
    "\n",
    "x = d['restaurants'][0]\n",
    "print(x['restaurant'])"
   ]
  },
  {
   "cell_type": "code",
   "execution_count": 15,
   "metadata": {
    "scrolled": false
   },
   "outputs": [
    {
     "name": "stdout",
     "output_type": "stream",
     "text": [
      "4.2\n",
      "4.4\n",
      "4.4\n",
      "4.2\n",
      "4.5\n"
     ]
    }
   ],
   "source": [
    "for i in range(5):\n",
    "    a = d['restaurants'][i]['restaurant']['user_rating']['aggregate_rating']\n",
    "    print(a)"
   ]
  }
 ],
 "metadata": {
  "kernelspec": {
   "display_name": "Python 3",
   "language": "python",
   "name": "python3"
  },
  "language_info": {
   "codemirror_mode": {
    "name": "ipython",
    "version": 3
   },
   "file_extension": ".py",
   "mimetype": "text/x-python",
   "name": "python",
   "nbconvert_exporter": "python",
   "pygments_lexer": "ipython3",
   "version": "3.7.6"
  }
 },
 "nbformat": 4,
 "nbformat_minor": 4
}
